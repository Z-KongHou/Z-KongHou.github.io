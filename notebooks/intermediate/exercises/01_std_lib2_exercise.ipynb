{
 "cells": [
  {
   "cell_type": "markdown",
   "metadata": {},
   "source": [
    "# 1. 让我们来模拟一下!\n",
    "下面你可以看到get_wiki_article函数，这是一个从维基百科获取文章的非常简单的实现。你的任务是模拟（mock）它的实现，以便它总是返回'Python is cool!'。但是，请注意，你应该能够检查在调用get_wiki_article时传递给urlopen的参数是什么。\n",
    "\n",
    "**注意**: get_content_of_url 函数使用标准库中的 [urllib] (https://docs.python.org/3/library/urllib.html#module-urllib)来创建 HTTP 请求. 通常，对于此类操作，使用非标准库的 [requests] (http://docs.python-requests.org/en/master/)库是更好的选择.实际上，requests 库在底层使用的是 urllib，因此，当你开始使用 requests 时，了解它的工作原理是有好处的——或者也许你已经使用过它了。"
   ]
  },
  {
   "cell_type": "code",
   "execution_count": null,
   "metadata": {
    "editable": false
   },
   "outputs": [],
   "source": [
    "from urllib.request import urlopen\n",
    "\n",
    "\n",
    "def get_wiki_article(name):\n",
    "    url = f\"https://en.wikipedia.org/wiki/{name}\"\n",
    "    response = urlopen(url)\n",
    "    content = str(response.read())\n",
    "    return content"
   ]
  },
  {
   "cell_type": "code",
   "execution_count": null,
   "metadata": {},
   "outputs": [],
   "source": [
    "# Your implementation here"
   ]
  },
  {
   "cell_type": "markdown",
   "metadata": {},
   "source": [
    "让我们验证它是否按预期工作。"
   ]
  },
  {
   "cell_type": "code",
   "execution_count": null,
   "metadata": {
    "editable": false
   },
   "outputs": [],
   "source": [
    "article = \"Python_(programming_language)\"\n",
    "res = get_wiki_article(article)\n",
    "assert \"Guido van Rossum\" not in res, \"Guido is still there!\"\n",
    "assert res == \"Python is cool!\"\n",
    "urlopen.assert_called_with(\n",
    "    \"https://en.wikipedia.org/wiki/Python_(programming_language)\"\n",
    ")\n",
    "\n",
    "print(\"All good!\")"
   ]
  },
  {
   "cell_type": "markdown",
   "metadata": {},
   "source": [
    "# 2. collections 模块的力量"
   ]
  },
  {
   "cell_type": "markdown",
   "metadata": {},
   "source": [
    "## 2.1 创建一个命名元组\n",
    "创建一个名为 Car 的命名元组，它具有 price（价格）、mileage（里程）和 brand（品牌）这三个字段。 "
   ]
  },
  {
   "cell_type": "code",
   "execution_count": null,
   "metadata": {},
   "outputs": [],
   "source": [
    "# Your implemenation here"
   ]
  },
  {
   "cell_type": "markdown",
   "metadata": {},
   "source": [
    "让我们测试它。"
   ]
  },
  {
   "cell_type": "code",
   "execution_count": null,
   "metadata": {
    "editable": false
   },
   "outputs": [],
   "source": [
    "car1 = Car(25000, 2000, \"BMW\")\n",
    "assert car1.price == 25000\n",
    "assert car1.mileage == 2000\n",
    "assert car1.brand == \"BMW\"\n",
    "assert isinstance(car1, tuple)\n",
    "\n",
    "# Note that indexing works also!\n",
    "# This means that if you change a tuple into a namedtuple,\n",
    "# the change will be backwards compatible.\n",
    "assert car1[2] == \"BMW\"\n",
    "\n",
    "print(\"All good!\")"
   ]
  },
  {
   "cell_type": "markdown",
   "metadata": {},
   "source": [
    "命名元组的强大之处在于它们的简洁性。如果 Car 是以类的形式实现的，那么实现过程将会显著更长。然而，如果你需要在 Car 实例的生命周期内能够更改例如 mileage（里程）或 price（价格）等属性，那么应该考虑使用类，因为元组是不可变的。"
   ]
  },
  {
   "cell_type": "markdown",
   "metadata": {},
   "source": [
    "## 2.2 字典的字典\n",
    "实现一个名为 name_mapping 的函数，该函数接受一个名字集合作为参数。 \n",
    "\n",
    "#### name_mapping 的规范\n",
    "* 你可以假设 names 集合中的所有元素都是字符串\n",
    "* 如果提供的 names 集合为空，则返回一个空字典\n",
    "* 返回一个字典的字典\n",
    "    * 外部字典应包含键 vowel 和 consonant\n",
    "    * vowel 和 consonant 键的值应该是包含名字（键）及其出现次数（值）的字典\n",
    "    *根据名字的首字母，名字属于 vowel 或 consonant\n",
    "    * 元音字母由 VOWELS 常量定义\n",
    "    * 如果只有以元音字母开头的名字，则返回值中不应包含 consonant 键（反之亦然）。\n",
    "* 请参阅下面的测试以获取完整示例\n",
    "\n",
    "提示：这里 defaultdict 和 Counter 可能会很有帮助:)"
   ]
  },
  {
   "cell_type": "code",
   "execution_count": null,
   "metadata": {
    "editable": false
   },
   "outputs": [],
   "source": [
    "VOWELS = (\"a\", \"e\", \"i\", \"o\", \"u\")"
   ]
  },
  {
   "cell_type": "code",
   "execution_count": null,
   "metadata": {},
   "outputs": [],
   "source": [
    "def name_mapping(names):\n",
    "    # Your implementation here"
   ]
  },
  {
   "cell_type": "markdown",
   "metadata": {},
   "source": [
    "让我们验证它是否工作正常！"
   ]
  },
  {
   "cell_type": "code",
   "execution_count": null,
   "metadata": {
    "editable": false
   },
   "outputs": [],
   "source": [
    "names = (\"Alice\", \"John\", \"Lisa\", \"John\", \"Eric\", \"Waldo\", \"annie\", \"Alice\", \"John\")\n",
    "expected = {\n",
    "    \"consonant\": {\"John\": 3, \"Waldo\": 1, \"Lisa\": 1},\n",
    "    \"vowel\": {\"Alice\": 2, \"annie\": 1, \"Eric\": 1},\n",
    "}\n",
    "assert name_mapping(names) == expected\n",
    "print(\"First ok!\")\n",
    "\n",
    "only_consonants = (\"John\", \"Doe\", \"Doe\")\n",
    "expected2 = {\"consonant\": {\"John\": 1, \"Doe\": 2}}\n",
    "assert name_mapping(only_consonants) == expected2\n",
    "print(\"Second ok!\")\n",
    "\n",
    "assert name_mapping([]) == {}\n",
    "\n",
    "print(\"All ok!\")"
   ]
  }
 ],
 "metadata": {
  "kernelspec": {
   "display_name": "Python 3",
   "language": "python",
   "name": "python3"
  },
  "language_info": {
   "codemirror_mode": {
    "name": "ipython",
    "version": 3
   },
   "file_extension": ".py",
   "mimetype": "text/x-python",
   "name": "python",
   "nbconvert_exporter": "python",
   "pygments_lexer": "ipython3",
   "version": "3.5.4"
  }
 },
 "nbformat": 4,
 "nbformat_minor": 2
}
