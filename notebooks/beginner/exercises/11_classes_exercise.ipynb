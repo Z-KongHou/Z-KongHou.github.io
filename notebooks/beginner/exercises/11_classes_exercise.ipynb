{
 "cells": [
  {
   "cell_type": "markdown",
   "metadata": {},
   "source": [
    "# 1.填写 Calculator 类中缺失的部分\n",
    "填写 Calculator 实现中的缺失部分，以便通过断言测试。"
   ]
  },
  {
   "cell_type": "code",
   "execution_count": null,
   "metadata": {},
   "outputs": [],
   "source": [
    "class Calculator:\n",
    "    def __init__(self, var1, ____):\n",
    "        self.____ = var1\n",
    "        self.____ = _____\n",
    "\n",
    "    def calculate_power(self):\n",
    "        return self.____**____.____\n",
    "\n",
    "    def calculate_sum(____, var3):\n",
    "        return ____.____ + ____.____ + var3"
   ]
  },
  {
   "cell_type": "code",
   "execution_count": null,
   "metadata": {
    "editable": false
   },
   "outputs": [],
   "source": [
    "calc = Calculator(2, 3)\n",
    "assert calc.calculate_power() == 8\n",
    "assert calc.calculate_sum(4) == 9"
   ]
  },
  {
   "cell_type": "markdown",
   "metadata": {},
   "source": [
    "# 2. 完善 StringManipulator 类\n",
    "填写 ____ 部分，并为 stripped_title() 方法创建实现。"
   ]
  },
  {
   "cell_type": "code",
   "execution_count": null,
   "metadata": {},
   "outputs": [],
   "source": [
    "class StringManipulator:\n",
    "    \"\"\"____\"\"\"\n",
    "    \n",
    "    category = ____\n",
    "    \n",
    "    def __init__(self, original):\n",
    "        self.string = ____\n",
    "        \n",
    "    def reverse_words(self):\n",
    "        words = self.string.____\n",
    "        self.string = ' '.join(reversed(____))\n",
    "        \n",
    "    def make_title(self):\n",
    "        # Create implementation for this\n",
    "        \n",
    "    def get_manipulated(____):\n",
    "        return self._____"
   ]
  },
  {
   "cell_type": "code",
   "execution_count": null,
   "metadata": {
    "editable": false
   },
   "outputs": [],
   "source": [
    "assert StringManipulator.__doc__ == \"Docstring of StringManipulator\"\n",
    "assert StringManipulator.category == \"Manipulator\"\n",
    "\n",
    "str_manip = StringManipulator(\"cOOL pyThON\")\n",
    "\n",
    "str_manip.reverse_words()\n",
    "assert str_manip.get_manipulated() == \"pyThON cOOL\"\n",
    "\n",
    "str_manip.make_title()\n",
    "assert str_manip.get_manipulated() == \"Python Cool\""
   ]
  },
  {
   "cell_type": "markdown",
   "metadata": {},
   "source": [
    "# 3.创建 Dog 类\n",
    "创建一个符合以下规格的 Dog 类：\n",
    "* 狗通过吠叫来消耗能量，通过睡觉来获得能量狗通过吠叫来消耗能量，通过睡觉来获得能量\n",
    "*一个新的 Dog 实例有 10 个单位的能量\n",
    "* Dog 类有一个 sleep 方法，可以给狗增加 2 个单位的能量\n",
    "* Dog 类有一个 bark 方法，会消耗狗 1 个单位的能量\n",
    "* Dog 类有一个 get_energy 方法，返回剩余的能量值 "
   ]
  },
  {
   "cell_type": "code",
   "execution_count": null,
   "metadata": {},
   "outputs": [],
   "source": [
    "class Dog:\n",
    "    # Your implementation here"
   ]
  },
  {
   "cell_type": "code",
   "execution_count": null,
   "metadata": {
    "editable": false
   },
   "outputs": [],
   "source": [
    "doge = Dog()\n",
    "assert doge.get_energy() == 10\n",
    "\n",
    "doge.bark()\n",
    "doge.bark()\n",
    "doge.bark()\n",
    "assert doge.get_energy() == 7\n",
    "\n",
    "doge.sleep()\n",
    "assert doge.get_energy() == 9\n",
    "\n",
    "another_doge = Dog()\n",
    "assert another_doge.get_energy() == 10"
   ]
  }
 ],
 "metadata": {
  "kernelspec": {
   "display_name": "Python 3 (ipykernel)",
   "language": "python",
   "name": "python3"
  },
  "language_info": {
   "codemirror_mode": {
    "name": "ipython",
    "version": 3
   },
   "file_extension": ".py",
   "mimetype": "text/x-python",
   "name": "python",
   "nbconvert_exporter": "python",
   "pygments_lexer": "ipython3",
   "version": "3.11.0"
  }
 },
 "nbformat": 4,
 "nbformat_minor": 2
}
