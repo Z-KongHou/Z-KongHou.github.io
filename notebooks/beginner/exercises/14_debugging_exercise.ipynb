{
 "cells": [
  {
   "cell_type": "markdown",
   "metadata": {},
   "source": [
    "# 1.识别代码中的错误\n",
    "下面的 stripped_reversed_lowercase 函数至少包含一个错误。你可以通过运行下面单元格中的代码来测试 stripped_reversed_lowercase 函数的功能，从而发现这个错误。\n",
    "\n",
    "在 stripped_reversed_lowercase 函数的开头设置断点，并使用调试器来解决错误。逐行执行代码，并打印函数中使用的变量，以了解哪里出了问题。 "
   ]
  },
  {
   "cell_type": "code",
   "execution_count": null,
   "metadata": {},
   "outputs": [],
   "source": [
    "def stripped_reversed_lowercase(original):\n",
    "    # Set a breakpoint here and start debugging\n",
    "    # from IPython.core.debugger import Pdb; Pdb().set_trace()\n",
    "    stripped = original.lstrip()\n",
    "    reversed = \" \".join(reversed(stripped))\n",
    "    reversed.lower()\n",
    "    return reversed"
   ]
  },
  {
   "cell_type": "code",
   "execution_count": null,
   "metadata": {
    "editable": false
   },
   "outputs": [],
   "source": [
    "# Let's verify it works\n",
    "original = \" \\n Original String \"\n",
    "result = stripped_reversed_lowercase(original)\n",
    "assert result == \"gnirts lanigiro\""
   ]
  }
 ],
 "metadata": {
  "kernelspec": {
   "display_name": "Python 3 (ipykernel)",
   "language": "python",
   "name": "python3"
  },
  "language_info": {
   "codemirror_mode": {
    "name": "ipython",
    "version": 3
   },
   "file_extension": ".py",
   "mimetype": "text/x-python",
   "name": "python",
   "nbconvert_exporter": "python",
   "pygments_lexer": "ipython3",
   "version": "3.11.0"
  }
 },
 "nbformat": 4,
 "nbformat_minor": 2
}
