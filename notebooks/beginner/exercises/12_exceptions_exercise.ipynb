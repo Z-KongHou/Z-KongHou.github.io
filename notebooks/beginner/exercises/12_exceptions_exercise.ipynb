{
 "cells": [
  {
   "cell_type": "markdown",
   "metadata": {},
   "source": [
    "# 1. 处理异常\n",
    "填写下面实现中的 ____ 部分。sum_of_list 函数接受一个列表作为参数，并计算列表中值的总和。如果列表中的某个元素无法转换为数值，则应从总和中忽略该元素。"
   ]
  },
  {
   "cell_type": "code",
   "execution_count": null,
   "metadata": {},
   "outputs": [],
   "source": [
    "def sum_of_list(values):\n",
    "    ____ = 0\n",
    "    for val in values:\n",
    "        ____:\n",
    "            numeric_val = float(val)\n",
    "        ____ ____ as e:\n",
    "            ____\n",
    "        ____ += numeric_val\n",
    "    return ____"
   ]
  },
  {
   "cell_type": "code",
   "execution_count": null,
   "metadata": {
    "editable": false
   },
   "outputs": [],
   "source": [
    "list1 = [1, 2, 3]\n",
    "list2 = [\"1\", 2.5, \"3.0\"]\n",
    "list3 = [\"\", \"1\"]\n",
    "list4 = []\n",
    "list5 = [\"John\", \"Doe\", \"was\", \"here\"]\n",
    "nasty_list = [KeyError(), [], dict()]\n",
    "\n",
    "assert sum_of_list(list1) == 6\n",
    "assert sum_of_list(list2) == 6.5\n",
    "assert sum_of_list(list3) == 1\n",
    "assert sum_of_list(list4) == 0\n",
    "assert sum_of_list(list5) == 0\n",
    "assert sum_of_list(nasty_list) == 0"
   ]
  },
  {
   "cell_type": "markdown",
   "metadata": {},
   "source": [
    "# 2. 使用自定义异常\n",
    "实现 verify_short_string 函数，该函数接受一个字符串作为参数。如果输入字符串的长度超过十个字符，则函数应引发 TooLongString 异常（注意：你需要自己创建 TooLongString）。该函数不需要返回任何内容。 "
   ]
  },
  {
   "cell_type": "code",
   "execution_count": null,
   "metadata": {},
   "outputs": [],
   "source": [
    "# Your implementation here"
   ]
  },
  {
   "cell_type": "code",
   "execution_count": null,
   "metadata": {
    "editable": false
   },
   "outputs": [],
   "source": [
    "# These should not raise\n",
    "verify_short_string(\"short\")\n",
    "verify_short_string(\"10   chars\")\n",
    "\n",
    "# This should raise\n",
    "try:\n",
    "    verify_short_string(\"this is long\")\n",
    "except TooLongString as e:\n",
    "    # This is ok\n",
    "    pass\n",
    "else:\n",
    "    # This means that there was no exception\n",
    "    assert False"
   ]
  }
 ],
 "metadata": {
  "kernelspec": {
   "display_name": "Python 3 (ipykernel)",
   "language": "python",
   "name": "python3"
  },
  "language_info": {
   "codemirror_mode": {
    "name": "ipython",
    "version": 3
   },
   "file_extension": ".py",
   "mimetype": "text/x-python",
   "name": "python",
   "nbconvert_exporter": "python",
   "pygments_lexer": "ipython3",
   "version": "3.11.0"
  }
 },
 "nbformat": 4,
 "nbformat_minor": 2
}
