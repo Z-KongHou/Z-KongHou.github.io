{
 "cells": [
  {
   "cell_type": "markdown",
   "metadata": {},
   "source": [
    "# 1. 处理日期和时间\n",
    "你得到了一个朴素的日期时间，见下面的 NAIVE_DT 变量。尽管这个变量是朴素的（即不包含时区信息），但你知道 NAIVE_DT 指定的时间是 UTC 时间。\n",
    "\n",
    "基于这个信息，你的任务是通过将 NAIVE_DT 转换为 UTC 时间，然后再转换为悉尼和洛杉矶的时间，来创建新的日期时间变量。使用以下变量名：utc_dt、sydney_dt 和 la_dt。 "
   ]
  },
  {
   "cell_type": "code",
   "execution_count": null,
   "metadata": {
    "editable": false
   },
   "outputs": [],
   "source": [
    "import datetime as dt\n",
    "from zoneinfo import ZoneInfo, available_timezones\n",
    "\n",
    "NAIVE_DT = dt.datetime(2000, 1, 1, 10)"
   ]
  },
  {
   "cell_type": "markdown",
   "metadata": {},
   "source": [
    "如果你不知道你要找的时区名称，这可能对你有帮助："
   ]
  },
  {
   "cell_type": "code",
   "execution_count": null,
   "metadata": {
    "editable": false
   },
   "outputs": [],
   "source": [
    "for tz in available_timezones():\n",
    "    print(tz)"
   ]
  },
  {
   "cell_type": "markdown",
   "metadata": {},
   "source": [
    "现在创建 utc_dt、sydney_dt 和 la_dt。"
   ]
  },
  {
   "cell_type": "code",
   "execution_count": null,
   "metadata": {},
   "outputs": [],
   "source": [
    "# Your implementation here"
   ]
  },
  {
   "cell_type": "markdown",
   "metadata": {},
   "source": [
    "让我们验证一下解决方案是否正确。"
   ]
  },
  {
   "cell_type": "code",
   "execution_count": null,
   "metadata": {
    "editable": false
   },
   "outputs": [],
   "source": [
    "assert utc_dt.isoformat() == \"2000-01-01T10:00:00+00:00\"\n",
    "assert sydney_dt.isoformat() == \"2000-01-01T21:00:00+11:00\"\n",
    "assert la_dt.isoformat() == \"2000-01-01T02:00:00-08:00\"\n",
    "\n",
    "print(\"All good!\")"
   ]
  }
 ],
 "metadata": {
  "kernelspec": {
   "display_name": "Python 3 (ipykernel)",
   "language": "python",
   "name": "python3"
  },
  "language_info": {
   "codemirror_mode": {
    "name": "ipython",
    "version": 3
   },
   "file_extension": ".py",
   "mimetype": "text/x-python",
   "name": "python",
   "nbconvert_exporter": "python",
   "pygments_lexer": "ipython3",
   "version": "3.11.0"
  }
 },
 "nbformat": 4,
 "nbformat_minor": 2
}
