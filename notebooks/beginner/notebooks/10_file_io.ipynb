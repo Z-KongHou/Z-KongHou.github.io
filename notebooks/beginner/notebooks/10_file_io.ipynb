{
 "cells": [
  {
   "cell_type": "markdown",
   "metadata": {},
   "source": [
    "# [文件 I/O操作](https://docs.python.org/3/tutorial/inputoutput.html#reading-and-writing-files)\n",
    "读取和写入文件。"
   ]
  },
  {
   "cell_type": "markdown",
   "metadata": {},
   "source": [
    "## 使用路径"
   ]
  },
  {
   "cell_type": "code",
   "execution_count": null,
   "metadata": {},
   "outputs": [],
   "source": [
    "from pathlib import Path\n",
    "\n",
    "current_file = Path(\"file_io.ipynb\").resolve()\n",
    "print(f\"current file: {current_file}\")\n",
    "# 注意：在.py文件中，您可以通过path（__file__）获取当前文件的路径\n",
    "\n",
    "current_dir = current_file.parent\n",
    "print(f\"current directory: {current_dir}\")\n",
    "\n",
    "data_dir = current_dir.parent / \"data\"\n",
    "print(f\"data directory: {data_dir}\")"
   ]
  },
  {
   "cell_type": "markdown",
   "metadata": {},
   "source": [
    "### 检查路径是否存在"
   ]
  },
  {
   "cell_type": "code",
   "execution_count": null,
   "metadata": {},
   "outputs": [],
   "source": [
    "print(f\"exists: {data_dir.exists()}\")\n",
    "print(f\"is file: {data_dir.is_file()}\")\n",
    "print(f\"is directory: {data_dir.is_dir()}\")"
   ]
  },
  {
   "cell_type": "markdown",
   "metadata": {},
   "source": [
    "## 读取文件"
   ]
  },
  {
   "cell_type": "code",
   "execution_count": null,
   "metadata": {},
   "outputs": [],
   "source": [
    "file_path = data_dir / \"simple_file.txt\"\n",
    "\n",
    "with open(file_path) as simple_file:\n",
    "    for line in simple_file:\n",
    "        print(line.strip())"
   ]
  },
  {
   "cell_type": "markdown",
   "metadata": {},
   "source": [
    " [`with`](https://docs.python.org/3/reference/compound_stmts.html#the-with-statement) 语句用于获取[上下文管理器](https://docs.python.org/3/reference/datamodel.html#with-statement-context-managers) 该上下文管理器将用作`with`语句中命令的执行上下文。上下文管理器保证在退出上下文时完成某些操作。\n",
    "\n",
    "在这种情况下，上下文管理器保证在退出上下文时隐式调用 `simple_file.close()`函数。这是一种让开发人员生活更轻松的方法：您不必记住显式关闭您打开的文件，也不必担心文件打开时发生异常。未关闭的文件可能是资源泄漏的来源。因此，最好始终与文件I/O一起使用 `with open()` 结构。\n",
    "\n",
    "举个例子，和上面一样，没有`with`语句."
   ]
  },
  {
   "cell_type": "code",
   "execution_count": null,
   "metadata": {},
   "outputs": [],
   "source": [
    "file_path = data_dir / \"simple_file.txt\"\n",
    "\n",
    "# 这不是首选方式\n",
    "simple_file = open(file_path)\n",
    "for line in simple_file:\n",
    "    print(line.strip())\n",
    "simple_file.close()  # 这必须明确地调用"
   ]
  },
  {
   "cell_type": "markdown",
   "metadata": {},
   "source": [
    "## 写入文件"
   ]
  },
  {
   "cell_type": "code",
   "execution_count": null,
   "metadata": {},
   "outputs": [],
   "source": [
    "new_file_path = data_dir / \"new_file.txt\"\n",
    "\n",
    "with open(new_file_path, \"w\") as my_file:\n",
    "    my_file.write(\"This is my first file that I wrote with Python.\")"
   ]
  },
  {
   "cell_type": "markdown",
   "metadata": {},
   "source": [
    "现在去检查数据目录中是否有new_file.txt文件。之后，您可以通过以下方式删除该文件："
   ]
  },
  {
   "cell_type": "code",
   "execution_count": null,
   "metadata": {},
   "outputs": [],
   "source": [
    "if new_file_path.exists():  # 确保文件存在\n",
    "    new_file_path.unlink()"
   ]
  }
 ],
 "metadata": {
  "kernelspec": {
   "display_name": "Python 3 (ipykernel)",
   "language": "python",
   "name": "python3"
  },
  "language_info": {
   "codemirror_mode": {
    "name": "ipython",
    "version": 3
   },
   "file_extension": ".py",
   "mimetype": "text/x-python",
   "name": "python",
   "nbconvert_exporter": "python",
   "pygments_lexer": "ipython3",
   "version": "3.12.4"
  }
 },
 "nbformat": 4,
 "nbformat_minor": 4
}
