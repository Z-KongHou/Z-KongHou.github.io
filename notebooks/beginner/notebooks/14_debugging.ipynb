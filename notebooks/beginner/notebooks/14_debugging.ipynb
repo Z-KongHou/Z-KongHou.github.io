{
 "cells": [
  {
   "cell_type": "markdown",
   "metadata": {},
   "source": [
    "# 使用[`pdb`](https://docs.python.org/3/library/pdb.html#module-pdb)进行调试\n",
    "您的程序并不总是按照您预期的方式运行。如果错误的来源不明确，调试通常是找出意外行为根本原因的最有效方法。Python 标准库拥有一个内置调试器，这是解决与代码相关的任何问题的强大工具。"
   ]
  },
  {
   "cell_type": "markdown",
   "metadata": {},
   "source": [
    "## `breakpoint()`\n",
    "调试的基本用例是您希望在某个特定点停止程序的执行，并从该特定点开始监视变量值或程序执行的总体情况。您可以通过在代码中设置断点 breakpoint() 来在所需的点停止执行。\n",
    "\n",
    "当您执行程序时，执行将在这个点停止，并进入交互式调试会话。您可以在代码中添加尽可能多的断点。"
   ]
  },
  {
   "cell_type": "markdown",
   "metadata": {},
   "source": [
    "## 一些有用的命令\n",
    "请在[此处](https://docs.python.org/3/library/pdb.html#debugger-commands)查看完整列表。\n",
    "\n",
    "* `h` 或 `help`: 打印可用命令的列表。如果您提供一个参数，例如 help continue，则打印continue 命令的帮助信息。\n",
    "* `l` 或 `list`: 列出当前所在位置周围的一段代码。\n",
    "* `n` 或 `next`: 执行下一行。\n",
    "* `s` 或 `step`: 与 next 相同，但会“进入”下一行中调用的函数。\n",
    "* `c` 或 `continue`: 继续执行直到下一个断点。\n",
    "* `r` 或 `return`: 继续执行直到当前函数返回。\n",
    "* `q` 或 `quit`: 退出调试器并中止程序执行。\n",
    "\n",
    "请注意，您可以在调试会话中通过输入变量名称来查看任何变量的值。您还可以在调试会话中执行任意代码。"
   ]
  },
  {
   "cell_type": "markdown",
   "metadata": {},
   "source": [
    "## 让我们看看它是如何工作的\n",
    "取消注释 `Pdb().set_trace()`（这是 Jupyter notebook 中与 breakpoint() 等效的方式）行并执行单元格。使用上面定义的命令逐行执行程序。尝试所有提到的命令至少一次。注意 n 和 s 之间的区别。"
   ]
  },
  {
   "cell_type": "code",
   "execution_count": null,
   "metadata": {},
   "outputs": [],
   "source": [
    "from IPython.core.debugger import Pdb\n",
    "\n",
    "\n",
    "class SuperGreeter:\n",
    "    def __init__(self, people_to_greet):\n",
    "        self.people = people_to_greet\n",
    "\n",
    "    def greet(self):\n",
    "        for person in self.people:\n",
    "            if person.islower():\n",
    "                self._greet_street_style(person)\n",
    "            elif len(person) > 7:\n",
    "                self._greet_hawaii(person)\n",
    "            else:\n",
    "                self._greet_polite(person)\n",
    "\n",
    "    def _greet_polite(self, name):\n",
    "        greeting = f\"G'day {name}! How are you doing?\"\n",
    "        print(greeting)\n",
    "\n",
    "    def _greet_street_style(self, name):\n",
    "        # Pdb().set_trace() # 取消注释\n",
    "        name = name.upper()\n",
    "        print(f\"WASSUP {name}!?\")\n",
    "\n",
    "    def _greet_hawaii(self, name):\n",
    "        print(f\"Aloha {name}!\")\n",
    "\n",
    "\n",
    "def main():\n",
    "    people = [\"John Doe\", \"Donald\", \"Lisa\", \"alex\"]\n",
    "    # Pdb().set_trace()  # 取消注释\n",
    "    greeter = SuperGreeter(people)\n",
    "    greeter.greet()\n",
    "\n",
    "\n",
    "main()"
   ]
  }
 ],
 "metadata": {
  "kernelspec": {
   "display_name": "Python 3 (ipykernel)",
   "language": "python",
   "name": "python3"
  },
  "language_info": {
   "codemirror_mode": {
    "name": "ipython",
    "version": 3
   },
   "file_extension": ".py",
   "mimetype": "text/x-python",
   "name": "python",
   "nbconvert_exporter": "python",
   "pygments_lexer": "ipython3",
   "version": "3.8.12"
  }
 },
 "nbformat": 4,
 "nbformat_minor": 4
}
