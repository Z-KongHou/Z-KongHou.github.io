{
 "cells": [
  {
   "cell_type": "markdown",
   "metadata": {},
   "source": [
    "# [异常](https://docs.python.org/3/library/exceptions.html#concrete-exceptions)\n",
    "当程序中出现错误时，会出现一个异常。举个例子，当你试图将一个数除以0时, Python会抛出`ZeroDivisionError` ，当你尝试访问字典中不存在的键时，Python会抛出  `KeyError`。\n",
    "\n"
   ]
  },
  {
   "cell_type": "code",
   "execution_count": null,
   "metadata": {},
   "outputs": [],
   "source": [
    "empty_dict = {}\n",
    "# empty_dict['key']  # 取消注释以查看追踪信息"
   ]
  },
  {
   "cell_type": "markdown",
   "metadata": {},
   "source": [
    "## `try-except` 结构 \n",
    "如果你知道某段代码可能会以某种方式失败, 你可以使用`try-except` 结构以一种期望的方式来捕获并处理可能发生的异常."
   ]
  },
  {
   "cell_type": "code",
   "execution_count": null,
   "metadata": {},
   "outputs": [],
   "source": [
    "# 让我们尝试打开一个不存在的文件。\n",
    "file_name = \"not_existing.txt\"\n",
    "\n",
    "try:\n",
    "    with open(file_name) as my_file:\n",
    "        print(\"File is successfully open\")\n",
    "\n",
    "except FileNotFoundError as e:\n",
    "    print(f\"Uups, file: {file_name} not found\")\n",
    "    print(f\"Exception: {e} was raised\")"
   ]
  },
  {
   "cell_type": "markdown",
   "metadata": {},
   "source": [
    "如果你不清楚某段代码可能会引发哪些具体类型的异常，你可以使用 'Exception' 这个语句来捕获所有类型的异常.此外，你可以使用多个'Exception'语句。"
   ]
  },
  {
   "cell_type": "code",
   "execution_count": null,
   "metadata": {},
   "outputs": [],
   "source": [
    "def calculate_division(var1, var2):\n",
    "    result = 0\n",
    "\n",
    "    try:\n",
    "        result = var1 / var2\n",
    "    except ZeroDivisionError as ex1:\n",
    "        print(\"Can't divide by zero\")\n",
    "    except Exception as ex2:\n",
    "        print(f\"Exception: {ex2}\")\n",
    "\n",
    "    return result\n",
    "\n",
    "\n",
    "result1 = calculate_division(3, 3)\n",
    "print(f\"result1: {result1}\")\n",
    "\n",
    "result2 = calculate_division(3, \"3\")\n",
    "print(f\"result2: {result2}\")\n",
    "\n",
    "result3 = calculate_division(3, 0)\n",
    "print(f\"result3: {result3}\")"
   ]
  },
  {
   "cell_type": "markdown",
   "metadata": {},
   "source": [
    "`try-except` 可以存在于其直接作用域之外的一个更大的作用域中:"
   ]
  },
  {
   "cell_type": "code",
   "execution_count": null,
   "metadata": {},
   "outputs": [],
   "source": [
    "def calculate_division(var1, var2):\n",
    "    return var1 / var2\n",
    "\n",
    "\n",
    "try:\n",
    "    result = calculate_division(3, \"3\")\n",
    "except Exception as e:\n",
    "    print(e)"
   ]
  },
  {
   "cell_type": "markdown",
   "metadata": {},
   "source": [
    "## 创建你自己的异常类 \n",
    "在你的应用程序中，你可以使用自定义异常来向用户通知在应用程序运行时发生的错误.  "
   ]
  },
  {
   "cell_type": "code",
   "execution_count": null,
   "metadata": {},
   "outputs": [],
   "source": [
    "import math\n",
    "\n",
    "\n",
    "# 定义你自己的异常\n",
    "class NegativeNumbersNotSupported(Exception):\n",
    "    pass\n",
    "\n",
    "\n",
    "# 自定义异常的示例用法：\n",
    "def secret_calculation(number1, number2):\n",
    "    if number1 < 0 or number2 < 0:\n",
    "        msg = f\"Negative number in at least one of the parameters: {number1}, {number2}\"\n",
    "        raise NegativeNumbersNotSupported(msg)\n",
    "\n",
    "    return math.sqrt(number1) + math.sqrt(number2)\n",
    "\n",
    "\n",
    "# 取消注释以查看追踪信息\n",
    "# result = secret_calculation(-1, 1)"
   ]
  }
 ],
 "metadata": {
  "kernelspec": {
   "display_name": "Python 3 (ipykernel)",
   "language": "python",
   "name": "python3"
  },
  "language_info": {
   "codemirror_mode": {
    "name": "ipython",
    "version": 3
   },
   "file_extension": ".py",
   "mimetype": "text/x-python",
   "name": "python",
   "nbconvert_exporter": "python",
   "pygments_lexer": "ipython3",
   "version": "3.8.12"
  }
 },
 "nbformat": 4,
 "nbformat_minor": 4
}
