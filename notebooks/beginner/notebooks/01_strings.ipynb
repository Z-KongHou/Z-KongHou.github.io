{
 "cells": [
  {
   "cell_type": "markdown",
   "metadata": {},
   "source": [
    "# [Strings 字符串 ](https://docs.python.org/3/library/stdtypes.html#text-sequence-type-str)"
   ]
  },
  {
   "cell_type": "code",
   "execution_count": 2,
   "metadata": {},
   "outputs": [],
   "source": [
    "my_string = \"Python is my favorite programming language!\""
   ]
  },
  {
   "cell_type": "code",
   "execution_count": 3,
   "metadata": {},
   "outputs": [
    {
     "data": {
      "text/plain": [
       "'Python is my favorite programming language!'"
      ]
     },
     "execution_count": 3,
     "metadata": {},
     "output_type": "execute_result"
    }
   ],
   "source": [
    "my_string"
   ]
  },
  {
   "cell_type": "code",
   "execution_count": 4,
   "metadata": {},
   "outputs": [
    {
     "data": {
      "text/plain": [
       "str"
      ]
     },
     "execution_count": 4,
     "metadata": {},
     "output_type": "execute_result"
    }
   ],
   "source": [
    "type(my_string)"
   ]
  },
  {
   "cell_type": "code",
   "execution_count": 5,
   "metadata": {},
   "outputs": [
    {
     "data": {
      "text/plain": [
       "43"
      ]
     },
     "execution_count": 5,
     "metadata": {},
     "output_type": "execute_result"
    }
   ],
   "source": [
    "len(my_string)"
   ]
  },
  {
   "cell_type": "markdown",
   "metadata": {},
   "source": [
    "### 长字符串遵循[PEP8](https://www.python.org/dev/peps/pep-0008/#maximum-line-length)规范"
   ]
  },
  {
   "cell_type": "code",
   "execution_count": 6,
   "metadata": {},
   "outputs": [
    {
     "data": {
      "text/plain": [
       "'Lorem ipsum dolor sit amet, consectetur adipiscing elit.Pellentesque eget tincidunt felis. Ut ac vestibulum est.In sed ipsum sit amet sapien scelerisque bibendum. Sed sagittis purus eu diam fermentum pellentesque.'"
      ]
     },
     "execution_count": 6,
     "metadata": {},
     "output_type": "execute_result"
    }
   ],
   "source": [
    "long_story = (\n",
    "    \"Lorem ipsum dolor sit amet, consectetur adipiscing elit.\"\n",
    "    \"Pellentesque eget tincidunt felis. Ut ac vestibulum est.\"\n",
    "    \"In sed ipsum sit amet sapien scelerisque bibendum. Sed \"\n",
    "    \"sagittis purus eu diam fermentum pellentesque.\"\n",
    ")\n",
    "long_story"
   ]
  },
  {
   "cell_type": "markdown",
   "metadata": {},
   "source": [
    "## `str.replace()`"
   ]
  },
  {
   "cell_type": "markdown",
   "metadata": {},
   "source": [
    "如果你不知道这个函数如何使用，你可以用help函数查询："
   ]
  },
  {
   "cell_type": "code",
   "execution_count": 7,
   "metadata": {},
   "outputs": [
    {
     "name": "stdout",
     "output_type": "stream",
     "text": [
      "Help on method_descriptor:\n",
      "\n",
      "replace(self, old, new, count=-1, /) unbound builtins.str method\n",
      "    Return a copy with all occurrences of substring old replaced by new.\n",
      "\n",
      "      count\n",
      "        Maximum number of occurrences to replace.\n",
      "        -1 (the default value) means replace all occurrences.\n",
      "\n",
      "    If the optional argument count is given, only the first count occurrences are\n",
      "    replaced.\n",
      "\n"
     ]
    }
   ],
   "source": [
    "help(str.replace)"
   ]
  },
  {
   "cell_type": "markdown",
   "metadata": {},
   "source": [
    "下面这串代码将不会按照把\"a\"替换成\"?\"的要求打印出结果，因为replace函数不会在原字符串上进行修改。"
   ]
  },
  {
   "cell_type": "code",
   "execution_count": 8,
   "metadata": {},
   "outputs": [
    {
     "name": "stdout",
     "output_type": "stream",
     "text": [
      "Python is my favorite programming language!\n"
     ]
    }
   ],
   "source": [
    "my_string.replace(\"a\", \"?\")\n",
    "print(my_string)"
   ]
  },
  {
   "cell_type": "markdown",
   "metadata": {},
   "source": [
    "你必须把replace函数的返回值赋值给一个变量，这样才可以实现替换。"
   ]
  },
  {
   "cell_type": "markdown",
   "metadata": {},
   "source": [
    "你必须把replace函数的返回值赋值给一个变量，这样才可以实现替换。"
   ]
  },
  {
   "cell_type": "code",
   "execution_count": null,
   "metadata": {},
   "outputs": [],
   "source": [
    "my_modified_string = my_string.replace(\"is\", \"will be\")\n",
    "print(my_modified_string)"
   ]
  },
  {
   "cell_type": "markdown",
   "metadata": {},
   "source": [
    "需要注意的是：在本教程接下来的所有函数同replace()函数一样，你必须把函数的返回值赋值给一个变量，这样才可以取得函数的结果，这些函数并不会对原字符串产生任何的改变，均返回一个新的字符串。"
   ]
  },
  {
   "cell_type": "markdown",
   "metadata": {},
   "source": [
    "## f-strings"
   ]
  },
  {
   "cell_type": "markdown",
   "metadata": {},
   "source": [
    "在Python 3.6及以上版本中，你可以使用f-strings来格式化字符串。"
   ]
  },
  {
   "cell_type": "markdown",
   "metadata": {},
   "source": [
    "通过在字符串前加上字母\"f\"，你可以在字符串中直接用{变量名}插入变量。"
   ]
  },
  {
   "cell_type": "code",
   "execution_count": 9,
   "metadata": {},
   "outputs": [
    {
     "name": "stdout",
     "output_type": "stream",
     "text": [
      "My name is John Doe, you can call me John.\n",
      "I'm 88 years old.\n"
     ]
    }
   ],
   "source": [
    "first_name = \"John\"\n",
    "last_name = \"Doe\"\n",
    "age = 88\n",
    "print(f\"My name is {first_name} {last_name}, you can call me {first_name}.\")\n",
    "print(f\"I'm {age} years old.\")"
   ]
  },
  {
   "cell_type": "markdown",
   "metadata": {},
   "source": [
    "也可以通过{变量名=}来打印“变量名=变量值”。"
   ]
  },
  {
   "cell_type": "code",
   "execution_count": 10,
   "metadata": {},
   "outputs": [
    {
     "name": "stdout",
     "output_type": "stream",
     "text": [
      "Use '=' to also print the variable name like this: age=88\n"
     ]
    }
   ],
   "source": [
    "print(f\"Use '=' to also print the variable name like this: {age=}\")"
   ]
  },
  {
   "cell_type": "markdown",
   "metadata": {},
   "source": [
    "## `str.join()`"
   ]
  },
  {
   "cell_type": "markdown",
   "metadata": {},
   "source": [
    "通过join函数，你可以把一个字符串列表连接成一个字符串，并且可以指定连接的分隔符。"
   ]
  },
  {
   "cell_type": "code",
   "execution_count": 11,
   "metadata": {},
   "outputs": [],
   "source": [
    "pandas = \"pandas\"\n",
    "numpy = \"numpy\"\n",
    "requests = \"requests\"\n",
    "cool_python_libs = \", \".join([pandas, numpy, requests])"
   ]
  },
  {
   "cell_type": "code",
   "execution_count": 12,
   "metadata": {},
   "outputs": [
    {
     "name": "stdout",
     "output_type": "stream",
     "text": [
      "Some cool python libraries: pandas, numpy, requests\n"
     ]
    }
   ],
   "source": [
    "print(f\"Some cool python libraries: {cool_python_libs}\")"
   ]
  },
  {
   "cell_type": "markdown",
   "metadata": {},
   "source": [
    "替代方法（不推荐，因为不够[Pythonic](http://docs.python-guide.org/en/latest/writing/style/#idioms)，而且速度[较慢](https://waymoot.org/home/python_string/)）："
   ]
  },
  {
   "cell_type": "code",
   "execution_count": 13,
   "metadata": {},
   "outputs": [
    {
     "name": "stdout",
     "output_type": "stream",
     "text": [
      "Some cool python libraries: pandas, numpy, requests\n",
      "Some cool python libraries: pandas, numpy, requests\n"
     ]
    }
   ],
   "source": [
    "cool_python_libs = pandas + \", \" + numpy + \", \" + requests\n",
    "print(f\"Some cool python libraries: {cool_python_libs}\")\n",
    "\n",
    "cool_python_libs = pandas\n",
    "cool_python_libs += \", \" + numpy\n",
    "cool_python_libs += \", \" + requests\n",
    "print(f\"Some cool python libraries: {cool_python_libs}\")"
   ]
  },
  {
   "cell_type": "markdown",
   "metadata": {},
   "source": [
    "## `str.upper(), str.lower(), str.title()`"
   ]
  },
  {
   "cell_type": "code",
   "execution_count": 14,
   "metadata": {},
   "outputs": [],
   "source": [
    "mixed_case = \"PyTHoN hackER\""
   ]
  },
  {
   "cell_type": "markdown",
   "metadata": {},
   "source": [
    "将字符串全部转换成大写。"
   ]
  },
  {
   "cell_type": "code",
   "execution_count": 15,
   "metadata": {},
   "outputs": [
    {
     "data": {
      "text/plain": [
       "'PYTHON HACKER'"
      ]
     },
     "execution_count": 15,
     "metadata": {},
     "output_type": "execute_result"
    }
   ],
   "source": [
    "mixed_case.upper()"
   ]
  },
  {
   "cell_type": "markdown",
   "metadata": {},
   "source": [
    "将字符串全部转换成小写。"
   ]
  },
  {
   "cell_type": "code",
   "execution_count": 16,
   "metadata": {},
   "outputs": [
    {
     "data": {
      "text/plain": [
       "'python hacker'"
      ]
     },
     "execution_count": 16,
     "metadata": {},
     "output_type": "execute_result"
    }
   ],
   "source": [
    "mixed_case.lower()"
   ]
  },
  {
   "cell_type": "markdown",
   "metadata": {},
   "source": [
    "将字符串首字母大写。"
   ]
  },
  {
   "cell_type": "code",
   "execution_count": 18,
   "metadata": {},
   "outputs": [
    {
     "data": {
      "text/plain": [
       "'Python Hacker'"
      ]
     },
     "execution_count": 18,
     "metadata": {},
     "output_type": "execute_result"
    }
   ],
   "source": [
    "mixed_case.title()"
   ]
  },
  {
   "cell_type": "markdown",
   "metadata": {},
   "source": [
    "## `str.strip()`"
   ]
  },
  {
   "cell_type": "markdown",
   "metadata": {},
   "source": [
    "这个函数会删除字符串开头和结尾的空白字符（包括空格、换行符、制表符等）。"
   ]
  },
  {
   "cell_type": "code",
   "execution_count": 17,
   "metadata": {},
   "outputs": [
    {
     "name": "stdout",
     "output_type": "stream",
     "text": [
      "ugly:  \n",
      " \t Some story to tell \n",
      "stripped: Some story to tell\n"
     ]
    }
   ],
   "source": [
    "ugly_formatted = \" \\n \\t Some story to tell \"\n",
    "stripped = ugly_formatted.strip()\n",
    "\n",
    "print(f\"ugly: {ugly_formatted}\")\n",
    "print(f\"stripped: {stripped}\")"
   ]
  },
  {
   "cell_type": "markdown",
   "metadata": {},
   "source": [
    "## `str.split()`"
   ]
  },
  {
   "cell_type": "markdown",
   "metadata": {},
   "source": [
    "这个函数会把字符串按照指定的分隔符分割成字符串列表且默认情况下为空格。"
   ]
  },
  {
   "cell_type": "code",
   "execution_count": 19,
   "metadata": {},
   "outputs": [
    {
     "name": "stdout",
     "output_type": "stream",
     "text": [
      "['three', 'different', 'words']\n"
     ]
    }
   ],
   "source": [
    "sentence = \"three different words\"\n",
    "words = sentence.split()\n",
    "print(words)"
   ]
  },
  {
   "cell_type": "code",
   "execution_count": 20,
   "metadata": {},
   "outputs": [
    {
     "data": {
      "text/plain": [
       "list"
      ]
     },
     "execution_count": 20,
     "metadata": {},
     "output_type": "execute_result"
    }
   ],
   "source": [
    "type(words)"
   ]
  },
  {
   "cell_type": "code",
   "execution_count": 21,
   "metadata": {},
   "outputs": [
    {
     "name": "stdout",
     "output_type": "stream",
     "text": [
      "['01001', '101101', '11100000']\n"
     ]
    }
   ],
   "source": [
    "secret_binary_data = \"01001,101101,11100000\"\n",
    "binaries = secret_binary_data.split(\",\")\n",
    "print(binaries)"
   ]
  },
  {
   "cell_type": "markdown",
   "metadata": {},
   "source": [
    "## 在一行中连续调用多个函数（对一个字符串变量连续进行多次操作）。"
   ]
  },
  {
   "cell_type": "code",
   "execution_count": 1,
   "metadata": {},
   "outputs": [
    {
     "name": "stdout",
     "output_type": "stream",
     "text": [
      "this looks good\n"
     ]
    }
   ],
   "source": [
    "ugly_mixed_case = \"   ThIS LooKs BAd \"\n",
    "pretty = ugly_mixed_case.strip().lower().replace(\"bad\", \"good\")\n",
    "print(pretty)"
   ]
  },
  {
   "cell_type": "markdown",
   "metadata": {},
   "source": [
    "注意：函数的执行顺序是从左到右的，所以下面的代码不会按照预期打印出结果。"
   ]
  },
  {
   "cell_type": "code",
   "execution_count": 2,
   "metadata": {},
   "outputs": [
    {
     "name": "stdout",
     "output_type": "stream",
     "text": [
      "this looks bad\n"
     ]
    }
   ],
   "source": [
    "pretty = ugly_mixed_case.replace(\"bad\", \"good\").strip().lower()\n",
    "print(pretty)"
   ]
  },
  {
   "cell_type": "markdown",
   "metadata": {},
   "source": [
    "## [Escape characters](http://python-reference.readthedocs.io/en/latest/docs/str/escapes.html#escape-characters)——转义字符"
   ]
  },
  {
   "cell_type": "markdown",
   "metadata": {},
   "source": [
    "点击上方可以跳转Python中转义字符的官方文档，你可以在这里找到所有转义字符的详细解释。"
   ]
  },
  {
   "cell_type": "markdown",
   "metadata": {},
   "source": [
    "下面是两个常用的转义字符：换行符（\\n）和制表符（\\t）。"
   ]
  },
  {
   "cell_type": "code",
   "execution_count": 23,
   "metadata": {},
   "outputs": [
    {
     "name": "stdout",
     "output_type": "stream",
     "text": [
      "First line\n",
      "Second line\n"
     ]
    }
   ],
   "source": [
    "two_lines = \"First line\\nSecond line\"\n",
    "print(two_lines)"
   ]
  },
  {
   "cell_type": "code",
   "execution_count": 24,
   "metadata": {},
   "outputs": [
    {
     "name": "stdout",
     "output_type": "stream",
     "text": [
      "\tThis will be indented\n"
     ]
    }
   ],
   "source": [
    "indented = \"\\tThis will be indented\"\n",
    "print(indented)"
   ]
  }
 ],
 "metadata": {
  "kernelspec": {
   "display_name": "base",
   "language": "python",
   "name": "python3"
  },
  "language_info": {
   "codemirror_mode": {
    "name": "ipython",
    "version": 3
   },
   "file_extension": ".py",
   "mimetype": "text/x-python",
   "name": "python",
   "nbconvert_exporter": "python",
   "pygments_lexer": "ipython3",
   "version": "3.12.4"
  }
 },
 "nbformat": 4,
 "nbformat_minor": 1
}
