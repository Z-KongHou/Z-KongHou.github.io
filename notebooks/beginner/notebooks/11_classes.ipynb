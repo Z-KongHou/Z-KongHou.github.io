{
 "cells": [
  {
   "cell_type": "markdown",
   "metadata": {},
   "source": [
    "# [类](https://docs.python.org/3/tutorial/classes.html#a-first-look-at-classes)"
   ]
  },
  {
   "cell_type": "code",
   "execution_count": null,
   "metadata": {},
   "outputs": [],
   "source": [
    "class MyFirstClass:\n",
    "    def __init__(self, name):\n",
    "        self.name = name\n",
    "\n",
    "    def greet(self):\n",
    "        print(f\"Hello {self.name}!\")"
   ]
  },
  {
   "cell_type": "code",
   "execution_count": null,
   "metadata": {},
   "outputs": [],
   "source": [
    "my_instance = MyFirstClass(\"John Doe\")\n",
    "print(f\"my_instance: {my_instance}\")\n",
    "print(f\"type: {type(my_instance)}\")\n",
    "print(f\"my_instance.name: {my_instance.name}\")"
   ]
  },
  {
   "cell_type": "markdown",
   "metadata": {},
   "source": [
    "## 方法\n",
    "类（class）内部定义的函数被称为方法（methods）. 它们的用法与普通的函数（functions）有些相似. "
   ]
  },
  {
   "cell_type": "code",
   "execution_count": null,
   "metadata": {},
   "outputs": [],
   "source": [
    "alice = MyFirstClass(name=\"Alice\")\n",
    "alice.greet()"
   ]
  },
  {
   "cell_type": "markdown",
   "metadata": {},
   "source": [
    "### `__init__()`\n",
    "`__init__()` 是一个用于初始化类实例的特殊方法。当你创建一个类的实例时，它会被调用。 "
   ]
  },
  {
   "cell_type": "code",
   "execution_count": null,
   "metadata": {},
   "outputs": [],
   "source": [
    "class Example:\n",
    "    def __init__(self):\n",
    "        print(\"Now we are inside __init__\")\n",
    "\n",
    "\n",
    "print(\"creating instance of Example\")\n",
    "example = Example()\n",
    "print(\"instance created\")"
   ]
  },
  {
   "cell_type": "markdown",
   "metadata": {},
   "source": [
    "`__init__()`通常用于初始化类的实例变量。这些实例变量可以作为self之后的参数列出。为了能够在实例的存在时间内访问这些实例变量，你必须将它们保存到self中。self是类中方法的第一个参数，它是你访问实例变量和其他方法的途径。"
   ]
  },
  {
   "cell_type": "code",
   "execution_count": null,
   "metadata": {},
   "outputs": [],
   "source": [
    "class Example:\n",
    "    def __init__(self, var1, var2):\n",
    "        self.first_var = var1\n",
    "        self.second_var = var2\n",
    "\n",
    "    def print_variables(self):\n",
    "        print(f\"{self.first_var} {self.second_var}\")\n",
    "\n",
    "\n",
    "e = Example(\"abc\", 123)\n",
    "e.print_variables()"
   ]
  },
  {
   "cell_type": "markdown",
   "metadata": {},
   "source": [
    "### `__str__()`\n",
    "`__str__()` 这是一个特殊方法，当类的实例被转换成字符串时（例如，当你想要打印这个实例时）会被调用。换句话说，通过为你的类定义__str__方法，你可以决定你的类的实例的可打印版本是什么。这个方法应该返回一个字符串。"
   ]
  },
  {
   "cell_type": "code",
   "execution_count": null,
   "metadata": {},
   "outputs": [],
   "source": [
    "class Person:\n",
    "    def __init__(self, name, age):\n",
    "        self.name = name\n",
    "        self.age = age\n",
    "\n",
    "    def __str__(self):\n",
    "        return f\"Person: {self.name}\"\n",
    "\n",
    "\n",
    "jack = Person(\"Jack\", 82)\n",
    "print(f\"This is the string presentation of jack: {jack}\")"
   ]
  },
  {
   "cell_type": "markdown",
   "metadata": {},
   "source": [
    "## 类变量 vs 实例变量\n",
    "类变量在该类的所有实例之间共享，而实例变量则可以在该类的不同实例之间持有不同的值。"
   ]
  },
  {
   "cell_type": "code",
   "execution_count": null,
   "metadata": {},
   "outputs": [],
   "source": [
    "class Example:\n",
    "    # These are class variables\n",
    "    name = \"Example class\"\n",
    "    description = \"Just an example of a simple class\"\n",
    "\n",
    "    def __init__(self, var1):\n",
    "        # This is an instance variable\n",
    "        self.instance_variable = var1\n",
    "\n",
    "    def show_info(self):\n",
    "        info = f\"instance_variable: {self.instance_variable}, name: {Example.name}, description: {Example.description}\"\n",
    "        print(info)\n",
    "\n",
    "\n",
    "inst1 = Example(\"foo\")\n",
    "inst2 = Example(\"bar\")\n",
    "\n",
    "# name and description have identical values between instances\n",
    "assert inst1.name == inst2.name == Example.name\n",
    "assert inst1.description == inst2.description == Example.description\n",
    "\n",
    "# If you change the value of a class variable, it's changed across all instances\n",
    "Example.name = \"Modified name\"\n",
    "inst1.show_info()\n",
    "inst2.show_info()"
   ]
  },
  {
   "cell_type": "markdown",
   "metadata": {},
   "source": [
    "## 公有 vs 私有\n",
    "在Python中，没有严格区分私有（private）或公有（public）方法或实例变量的机制。按照惯例，如果一个方法或实例变量应该被视为私有的，即不应该从类的外部访问，那么它的名称应该以下划线开头。这里的“私有”意味着它不应该被类的外部代码直接访问。\n",
    "\n",
    "例如，假设我们有一个Person类，它有一个实例变量age。我们希望在实例创建后，age不能被直接访问（例如，被修改）。在Python中，这通常会通过以下方式实现:"
   ]
  },
  {
   "cell_type": "code",
   "execution_count": null,
   "metadata": {},
   "outputs": [],
   "source": [
    "class Person:\n",
    "    def __init__(self, age):\n",
    "        self._age = age\n",
    "\n",
    "\n",
    "example_person = Person(age=15)\n",
    "# You can't do this:\n",
    "# print(example_person.age)\n",
    "# Nor this:\n",
    "# example_person.age = 16"
   ]
  },
  {
   "cell_type": "markdown",
   "metadata": {},
   "source": [
    "如果你希望age（年龄）可以被读取但不能被写入，你可以使用property（属性）功能:"
   ]
  },
  {
   "cell_type": "code",
   "execution_count": null,
   "metadata": {},
   "outputs": [],
   "source": [
    "class Person:\n",
    "    def __init__(self, age):\n",
    "        self._age = age\n",
    "\n",
    "    @property\n",
    "    def age(self):\n",
    "        return self._age\n",
    "\n",
    "\n",
    "example_person = Person(age=15)\n",
    "# Now you can do this:\n",
    "print(example_person.age)\n",
    "# But not this:\n",
    "# example_person.age = 16"
   ]
  },
  {
   "cell_type": "markdown",
   "metadata": {},
   "source": [
    "这样，你就可以对你类的实例变量进行受控访问: "
   ]
  },
  {
   "cell_type": "code",
   "execution_count": null,
   "metadata": {},
   "outputs": [],
   "source": [
    "class Person:\n",
    "    def __init__(self, age):\n",
    "        self._age = age\n",
    "\n",
    "    @property\n",
    "    def age(self):\n",
    "        return self._age\n",
    "\n",
    "    def celebrate_birthday(self):\n",
    "        self._age += 1\n",
    "        print(f\"Happy bday for {self._age} years old!\")\n",
    "\n",
    "\n",
    "example_person = Person(age=15)\n",
    "example_person.celebrate_birthday()"
   ]
  },
  {
   "cell_type": "markdown",
   "metadata": {},
   "source": [
    "## 继承简介"
   ]
  },
  {
   "cell_type": "code",
   "execution_count": null,
   "metadata": {},
   "outputs": [],
   "source": [
    "class Animal:\n",
    "    def greet(self):\n",
    "        print(\"Hello, I am an animal\")\n",
    "\n",
    "    @property\n",
    "    def favorite_food(self):\n",
    "        return \"beef\"\n",
    "\n",
    "\n",
    "class Dog(Animal):\n",
    "    def greet(self):\n",
    "        print(\"wof wof\")\n",
    "\n",
    "\n",
    "class Cat(Animal):\n",
    "    @property\n",
    "    def favorite_food(self):\n",
    "        return \"fish\""
   ]
  },
  {
   "cell_type": "code",
   "execution_count": null,
   "metadata": {},
   "outputs": [],
   "source": [
    "dog = Dog()\n",
    "dog.greet()\n",
    "print(f\"Dog's favorite food is {dog.favorite_food}\")\n",
    "\n",
    "cat = Cat()\n",
    "cat.greet()\n",
    "print(f\"Cat's favorite food is {cat.favorite_food}\")"
   ]
  }
 ],
 "metadata": {
  "kernelspec": {
   "display_name": "Python 3 (ipykernel)",
   "language": "python",
   "name": "python3"
  },
  "language_info": {
   "codemirror_mode": {
    "name": "ipython",
    "version": 3
   },
   "file_extension": ".py",
   "mimetype": "text/x-python",
   "name": "python",
   "nbconvert_exporter": "python",
   "pygments_lexer": "ipython3",
   "version": "3.11.0"
  }
 },
 "nbformat": 4,
 "nbformat_minor": 2
}
