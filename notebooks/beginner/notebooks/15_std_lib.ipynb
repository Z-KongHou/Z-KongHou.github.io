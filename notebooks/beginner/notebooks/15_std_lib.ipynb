{
 "cells": [
  {
   "cell_type": "markdown",
   "metadata": {},
   "source": [
    "# [Python标准库](https://docs.python.org/3/library/#the-python-standard-library)的好处\n",
    "Python标准库是您Python安装的一部分。它包含多种包，这些包在构建您的Python杰作时可能很有帮助。本文档列出了常用的包及其主要功能。"
   ]
  },
  {
   "cell_type": "markdown",
   "metadata": {},
   "source": [
    "## 用于处理日期和时间的[`datetime`](https://docs.python.org/3/library/datetime.html#module-datetime)"
   ]
  },
  {
   "cell_type": "code",
   "execution_count": null,
   "metadata": {},
   "outputs": [],
   "source": [
    "import datetime as dt\n",
    "\n",
    "local_now = dt.datetime.now()\n",
    "print(f\"local now: {local_now}\")\n",
    "\n",
    "utc_now = dt.datetime.utcnow()\n",
    "print(f\"utc now: {utc_now}\")\n",
    "\n",
    "# 您可以单独访问任何值：\n",
    "print(\n",
    "    f\"{local_now.year} {local_now.month} {local_now.day} {local_now.hour} {local_now.minute} {local_now.second}\"\n",
    ")\n",
    "\n",
    "print(f\"date: {local_now.date()}\")\n",
    "print(f\"time: {local_now.time()}\")"
   ]
  },
  {
   "cell_type": "markdown",
   "metadata": {},
   "source": [
    "### `strftime()`\n",
    "用于字符串格式化 `datetime`"
   ]
  },
  {
   "cell_type": "code",
   "execution_count": null,
   "metadata": {},
   "outputs": [],
   "source": [
    "formatted1 = local_now.strftime(\"%Y/%m/%d-%H:%M:%S\")\n",
    "print(formatted1)\n",
    "\n",
    "formatted2 = local_now.strftime(\"date: %Y-%m-%d time:%H:%M:%S\")\n",
    "print(formatted2)"
   ]
  },
  {
   "cell_type": "markdown",
   "metadata": {},
   "source": [
    "### `strptime()`\n",
    "用于将 `datetime` 字符串转换为 `datetime` 对象"
   ]
  },
  {
   "cell_type": "code",
   "execution_count": null,
   "metadata": {},
   "outputs": [],
   "source": [
    "my_dt = dt.datetime.strptime(\"2000-01-01 10:00:00\", \"%Y-%m-%d %H:%M:%S\")\n",
    "print(f\"my_dt: {my_dt}\")"
   ]
  },
  {
   "cell_type": "markdown",
   "metadata": {},
   "source": [
    "### [`timedelta`](https://docs.python.org/3/library/datetime.html#timedelta-objects)\n",
    "用于处理时间差。"
   ]
  },
  {
   "cell_type": "code",
   "execution_count": null,
   "metadata": {},
   "outputs": [],
   "source": [
    "tomorrow = local_now + dt.timedelta(days=1)\n",
    "print(f\"tomorrow this time: {tomorrow}\")\n",
    "\n",
    "delta = tomorrow - local_now\n",
    "print(f\"tomorrow - now = {delta}\")\n",
    "print(f\"days: {delta.days}, seconds: {delta.seconds}\")\n",
    "print(f\"total seconds: {delta.total_seconds()}\")"
   ]
  },
  {
   "cell_type": "markdown",
   "metadata": {},
   "source": [
    "### 处理时区"
   ]
  },
  {
   "cell_type": "code",
   "execution_count": null,
   "metadata": {},
   "outputs": [],
   "source": [
    "import datetime as dt\n",
    "from zoneinfo import ZoneInfo\n",
    "\n",
    "naive_utc_now = dt.datetime.utcnow()\n",
    "print(f\"naive utc now: {naive_utc_now}, tzinfo: {naive_utc_now.tzinfo}\")\n",
    "\n",
    "# 本地化时间\n",
    "UTC_TZ = ZoneInfo(\"UTC\")\n",
    "utc_now = naive_utc_now.replace(tzinfo=UTC_TZ)\n",
    "print(f\"utc now: {utc_now}, tzinfo: {utc_now.tzinfo}\")\n",
    "\n",
    "# 将本地化日期时间转换为不同的时区\n",
    "PARIS_TZ = ZoneInfo(\"Europe/Paris\")\n",
    "paris_now = utc_now.astimezone(PARIS_TZ)\n",
    "print(f\"Paris: {paris_now}, tzinfo: {paris_now.tzinfo}\")\n",
    "\n",
    "NEW_YORK_TZ = ZoneInfo(\"America/New_York\")\n",
    "ny_now = utc_now.astimezone(NEW_YORK_TZ)\n",
    "print(f\"New York: {ny_now}, tzinfo: {ny_now.tzinfo}\")"
   ]
  },
  {
   "cell_type": "markdown",
   "metadata": {},
   "source": [
    "**注意**: 如果您的项目大量使用日期时间，您可能想要查看一些外部库，例如 [Pendulum](https://pendulum.eustace.io/docs/) 和 [Maya](https://github.com/kennethreitz/maya), 它们在某些用例中使处理日期时间变得更加容易。"
   ]
  },
  {
   "cell_type": "markdown",
   "metadata": {},
   "source": [
    "## [`logging`](https://docs.python.org/3/library/logging.html#module-logging)"
   ]
  },
  {
   "cell_type": "code",
   "execution_count": null,
   "metadata": {},
   "outputs": [],
   "source": [
    "import logging\n",
    "\n",
    "# 为每个模块单独获取专用日志记录器的便捷方式\n",
    "logger = logging.getLogger(__name__)\n",
    "logger.setLevel(logging.WARNING)\n",
    "\n",
    "logger.debug(\"This is debug\")\n",
    "logger.info(\"This is info\")\n",
    "logger.warning(\"This is warning\")\n",
    "logger.error(\"This is error\")\n",
    "logger.critical(\"This is critical\")"
   ]
  },
  {
   "cell_type": "markdown",
   "metadata": {},
   "source": [
    "### 记录异常\n",
    "在日志模块中有一个很好的异常函数，它会自动记录堆栈跟踪，以及用户定义的日志条目。"
   ]
  },
  {
   "cell_type": "code",
   "execution_count": null,
   "metadata": {},
   "outputs": [],
   "source": [
    "try:\n",
    "    path_calculation = 1 / 0\n",
    "except ZeroDivisionError:\n",
    "    logging.exception(\"All went south in my calculation\")"
   ]
  },
  {
   "cell_type": "markdown",
   "metadata": {},
   "source": [
    "### 格式化日志条目"
   ]
  },
  {
   "cell_type": "code",
   "execution_count": null,
   "metadata": {},
   "outputs": [],
   "source": [
    "import logging\n",
    "\n",
    "# 这仅在 Jupyter Notebook 环境中需要。\n",
    "from importlib import reload\n",
    "\n",
    "reload(logging)\n",
    "\n",
    "my_format = \"%(asctime)s | %(name)-12s | %(levelname)-10s | %(message)s\"\n",
    "logging.basicConfig(format=my_format)\n",
    "\n",
    "logger = logging.getLogger(\"MyLogger\")\n",
    "\n",
    "logger.warning(\"Something bad is going to happen\")\n",
    "logger.error(\"Uups, it already happened\")"
   ]
  },
  {
   "cell_type": "markdown",
   "metadata": {},
   "source": [
    "### 记录到文件"
   ]
  },
  {
   "cell_type": "code",
   "execution_count": null,
   "metadata": {},
   "outputs": [],
   "source": [
    "import logging\n",
    "from pathlib import Path\n",
    "\n",
    "# 这仅在 Jupyter Notebook 环境中需要。\n",
    "from importlib import reload\n",
    "\n",
    "reload(logging)\n",
    "\n",
    "logger = logging.getLogger(\"MyFileLogger\")\n",
    "\n",
    "# 让我们为我们的日志记录器定义一个文件处理器。\n",
    "log_path = Path.cwd() / \"my_log.txt\"\n",
    "file_handler = logging.FileHandler(log_path)\n",
    "\n",
    "# 还有一个不错的格式\n",
    "formatter = logging.Formatter(\n",
    "    \"%(asctime)s | %(name)-12s | %(levelname)-10s | %(message)s\"\n",
    ")\n",
    "file_handler.setFormatter(formatter)\n",
    "\n",
    "logger.addHandler(file_handler)\n",
    "\n",
    "# 如果你想在控制台中也看到它，请为此添加另一个处理器\n",
    "# logger.addHandler(logging.StreamHandler())\n",
    "\n",
    "logger.warning(\"Oops something is going to happen\")\n",
    "logger.error(\"John Doe visits our place\")"
   ]
  },
  {
   "cell_type": "markdown",
   "metadata": {},
   "source": [
    "## 用于随机数生成的[`random`](https://docs.python.org/3/library/random.html)模块"
   ]
  },
  {
   "cell_type": "code",
   "execution_count": null,
   "metadata": {},
   "outputs": [],
   "source": [
    "import random\n",
    "\n",
    "rand_int = random.randint(1, 100)\n",
    "print(f\"random integer between 1-100: {rand_int}\")\n",
    "\n",
    "rand = random.random()\n",
    "print(f\"random float between 0-1: {rand}\")"
   ]
  },
  {
   "cell_type": "markdown",
   "metadata": {},
   "source": [
    "如果你需要伪随机数，可以为随机数设置 seed。这将重现输出（尝试多次运行该单元格）："
   ]
  },
  {
   "cell_type": "code",
   "execution_count": null,
   "metadata": {},
   "outputs": [],
   "source": [
    "import random\n",
    "\n",
    "random.seed(5)  # 设置随机数种子\n",
    "\n",
    "# 让我们打印出十个随机数\n",
    "for _ in range(10):\n",
    "    print(random.random())"
   ]
  },
  {
   "cell_type": "markdown",
   "metadata": {},
   "source": [
    "## 用于正则表达式的[`re`](https://docs.python.org/3/library/re.html#module-re)模块"
   ]
  },
  {
   "cell_type": "markdown",
   "metadata": {},
   "source": [
    "### 搜索出现次数"
   ]
  },
  {
   "cell_type": "code",
   "execution_count": null,
   "metadata": {},
   "outputs": [],
   "source": [
    "import re\n",
    "\n",
    "secret_code = \"qwret 8sfg12f5 fd09f_df\"\n",
    "# 开头的 \"r\" 表示原始格式，使用它与正则表达式模式。\n",
    "search_pattern = r\"(g12)\"\n",
    "\n",
    "match = re.search(search_pattern, secret_code)\n",
    "print(f\"match: {match}\")\n",
    "print(f\"match.group(): {match.group()}\")\n",
    "\n",
    "numbers_pattern = r\"[0-9]\"\n",
    "numbers_match = re.findall(numbers_pattern, secret_code)\n",
    "print(f\"numbers: {numbers_match}\")"
   ]
  },
  {
   "cell_type": "markdown",
   "metadata": {},
   "source": [
    "### 变量验证"
   ]
  },
  {
   "cell_type": "code",
   "execution_count": null,
   "metadata": {},
   "outputs": [],
   "source": [
    "import re\n",
    "\n",
    "\n",
    "def validate_only_lower_case_letters(to_validate):\n",
    "    pattern = r\"^[a-z]+$\"\n",
    "    return bool(re.match(pattern, to_validate))\n",
    "\n",
    "\n",
    "print(validate_only_lower_case_letters(\"thisshouldbeok\"))\n",
    "print(validate_only_lower_case_letters(\"thisshould notbeok\"))\n",
    "print(validate_only_lower_case_letters(\"Thisshouldnotbeok\"))\n",
    "print(validate_only_lower_case_letters(\"thisshouldnotbeok1\"))\n",
    "print(validate_only_lower_case_letters(\"\"))"
   ]
  }
 ],
 "metadata": {
  "kernelspec": {
   "display_name": "Python 3 (ipykernel)",
   "language": "python",
   "name": "python3"
  },
  "language_info": {
   "codemirror_mode": {
    "name": "ipython",
    "version": 3
   },
   "file_extension": ".py",
   "mimetype": "text/x-python",
   "name": "python",
   "nbconvert_exporter": "python",
   "pygments_lexer": "ipython3",
   "version": "3.8.12"
  }
 },
 "nbformat": 4,
 "nbformat_minor": 4
}
