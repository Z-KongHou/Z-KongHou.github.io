{
 "cells": [
  {
   "cell_type": "markdown",
   "metadata": {},
   "source": [
    "# 虚拟环境\n",
    "在进行 Python 项目时，最佳实践是为每个项目创建一个单独的虚拟环境。 \n",
    "\n",
    "每个虚拟环境都有其自己的 Python 二进制文件。当您将某个 Python 包安装到虚拟环境中时，它只会安装到该特定环境中。这意味着您可以在同一台机器上的不同虚拟环境中拥有同一个 Python 包的不同版本。如果您的项目需要使用不同的 Python 版本，虚拟环境也非常有用。"
   ]
  },
  {
   "cell_type": "markdown",
   "metadata": {},
   "source": [
    "## [`venv`](https://docs.python.org/3/library/venv.html#module-venv)"
   ]
  },
  {
   "cell_type": "markdown",
   "metadata": {},
   "source": [
    "#### 创建新的虚拟环境\n",
    "您可以将所有虚拟环境创建到一个单独的目录中（例如，在您的主目录下创建一个 `.virtualenvs` 目录）。这样更容易找到它们。"
   ]
  },
  {
   "cell_type": "markdown",
   "metadata": {},
   "source": [
    "`python3 -m venv /path/to/new/environment`\n",
    "\n",
    "或者\n",
    "\n",
    "`path/to/your/python -m venv /path/to/new/environment`"
   ]
  },
  {
   "cell_type": "markdown",
   "metadata": {},
   "source": [
    "#### 激活虚拟环境"
   ]
  },
  {
   "cell_type": "markdown",
   "metadata": {},
   "source": [
    "Windows: `path_to_virtual_env\\Scripts\\activate.bat`<br/>\n",
    "Posix: `source path_to_virtual_env/bin/activate`"
   ]
  },
  {
   "cell_type": "markdown",
   "metadata": {},
   "source": [
    "#### 安装包\n",
    "在激活新创建的虚拟环境后，您可以使用 pip 安装新的包。例如，如果您想安装 pytest，可以使用以下命令：\n",
    "\n",
    "`python -m pip install pytest`\n",
    "\n",
    "该包将被安装到 `path_to_virtual_env/lib/<python_version>/site-packages` 目录下。请注意，`site-packages` 的路径可能会因您使用的操作系统而略有不同。\n",
    "\n",
    "您可以通过运行以下命令来列出已安装的包及其版本：\n",
    "\n",
    "`python -m pip freeze`"
   ]
  }
 ],
 "metadata": {
  "kernelspec": {
   "display_name": "Python 3 (ipykernel)",
   "language": "python",
   "name": "python3"
  },
  "language_info": {
   "codemirror_mode": {
    "name": "ipython",
    "version": 3
   },
   "file_extension": ".py",
   "mimetype": "text/x-python",
   "name": "python",
   "nbconvert_exporter": "python",
   "pygments_lexer": "ipython3",
   "version": "3.8.12"
  }
 },
 "nbformat": 4,
 "nbformat_minor": 4
}
