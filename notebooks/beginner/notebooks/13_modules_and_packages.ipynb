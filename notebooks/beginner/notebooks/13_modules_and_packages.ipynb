{
 "cells": [
  {
   "cell_type": "markdown",
   "metadata": {},
   "source": [
    "# [模块和包](https://docs.python.org/3/tutorial/modules.html#modules)\n",
    "\n",
    "> 模块是一个 Python 源代码文件，即扩展名为 .py 的文件。\n",
    "\n",
    "> 包是一个包含 init.py 文件的目录，并且可以包含 Python 模块和其他包。\n"
   ]
  },
  {
   "cell_type": "markdown",
   "metadata": {},
   "source": [
    "## 为什么要将代码组织成模块和包\n",
    "* 可维护性\n",
    "* 可重用性\n",
    "* 命名空间\n",
    "* 不熟悉项目的人可以通过查看项目的目录结构，快速获得清晰的概览\n",
    "* 搜索特定功能或类很容易"
   ]
  },
  {
   "cell_type": "markdown",
   "metadata": {},
   "source": [
    "## 如何使用\n",
    "\n",
    "让我们以以下目录结构为例："
   ]
  },
  {
   "cell_type": "markdown",
   "metadata": {},
   "source": [
    "```\n",
    "food_store/\n",
    "    __init__.py\n",
    "    \n",
    "    product/\n",
    "        __init__.py\n",
    "        \n",
    "        fruit/\n",
    "            __init__.py\n",
    "            apple.py\n",
    "            banana.py\n",
    "            \n",
    "        drink/\n",
    "            __init__.py\n",
    "            juice.py\n",
    "            milk.py\n",
    "            beer.py\n",
    "\n",
    "    cashier/\n",
    "        __ini__.py\n",
    "        receipt.py\n",
    "        calculator.py\n",
    "```"
   ]
  },
  {
   "cell_type": "markdown",
   "metadata": {},
   "source": [
    "假设 `banana.py` 文件包含："
   ]
  },
  {
   "cell_type": "code",
   "execution_count": null,
   "metadata": {},
   "outputs": [],
   "source": [
    "def get_available_brands():\n",
    "    return [\"chiquita\"]\n",
    "\n",
    "\n",
    "class Banana:\n",
    "    def __init__(self, brand=\"chiquita\"):\n",
    "        if brand not in get_available_brands():\n",
    "            raise ValueError(f\"Unknown brand: {brand}\")\n",
    "        self._brand = brand"
   ]
  },
  {
   "cell_type": "markdown",
   "metadata": {},
   "source": [
    "### 导入\n",
    "\n",
    "假设我们需要在 `receipt.py` 文件中访问 `banana.py` 文件中的 Banana 类。我们可以通过在 `receipt.py` 文件的开头导入来实现："
   ]
  },
  {
   "cell_type": "code",
   "execution_count": null,
   "metadata": {},
   "outputs": [],
   "source": [
    "from food_store.product.fruit.banana import Banana\n",
    "\n",
    "# 然后它可以这样使用：\n",
    "my_banana = Banana()"
   ]
  },
  {
   "cell_type": "markdown",
   "metadata": {},
   "source": [
    "如果我们需要从 `banana.py` 文件中访问多个类或函数："
   ]
  },
  {
   "cell_type": "code",
   "execution_count": null,
   "metadata": {},
   "outputs": [],
   "source": [
    "from food_store.product.fruit import banana\n",
    "\n",
    "# 然后它可以这样使用：\n",
    "brands = banana.get_available_brands()\n",
    "my_banana = banana.Banana()"
   ]
  },
  {
   "cell_type": "markdown",
   "metadata": {},
   "source": [
    "有关模块和包的全面介绍可以在[此处](https://realpython.com/python-modules-packages/)找到"
   ]
  }
 ],
 "metadata": {
  "kernelspec": {
   "display_name": "Python 3 (ipykernel)",
   "language": "python",
   "name": "python3"
  },
  "language_info": {
   "codemirror_mode": {
    "name": "ipython",
    "version": 3
   },
   "file_extension": ".py",
   "mimetype": "text/x-python",
   "name": "python",
   "nbconvert_exporter": "python",
   "pygments_lexer": "ipython3",
   "version": "3.8.12"
  }
 },
 "nbformat": 4,
 "nbformat_minor": 4
}
