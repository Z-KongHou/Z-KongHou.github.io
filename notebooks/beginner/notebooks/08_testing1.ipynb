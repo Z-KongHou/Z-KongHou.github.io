{
 "cells": [
  {
   "cell_type": "markdown",
   "metadata": {},
   "source": [
    "#  [pytest测试](https://docs.pytest.org/en/latest/) - 第1部分"
   ]
  },
  {
   "cell_type": "markdown",
   "metadata": {},
   "source": [
    "## 为什么要写测试？\n",
    "* 谁想进行手动测试？\n",
    "* 当你修复一个bug或添加一个新功能时，测试是一种验证你在修复或添加的过程中没有破坏任何代码功能的方法\n",
    "* 如果你有明确的要求，你可以为每个要求进行匹配测试\n",
    "* 你不必害怕重新编写代码\n",
    "* 测试记录了你的用例实现——它们向其他人展示了你实现的用例\n",
    "* 这份列表是无尽的。。。"
   ]
  },
  {
   "cell_type": "markdown",
   "metadata": {},
   "source": [
    "## [测试驱动开发](https://en.wikipedia.org/wiki/Test-driven_development)(又叫做TDD)\n",
    "简而言之，TDD的基本思想是在编写实际实现之前编写测试。也许这种方法最显著的好处是开发人员专注于编写与程序应该做的事情相匹配的测试。然而，如果测试是在实际实现之后编写的，那么匆忙测试的风险很高，因为这只会为已经编写的逻辑开绿灯。\n",
    "\n",
    "测试是现代敏捷软件开发中的一流公民，这就是为什么在Python学习过程中尽早开始考虑TDD很重要。\n",
    "\n",
    "TDD的工作流程可以概括如下：\n",
    "1. 为您要实现的更改/功能/错误修复添加测试用例\n",
    "2. 运行所有测试并检查新测试是否失败\n",
    "3. 执行所需的更改\n",
    "4. 运行测试并验证所有测试均通过\n",
    "5. 重构"
   ]
  },
  {
   "cell_type": "markdown",
   "metadata": {},
   "source": [
    "### 在notebooks中运行pytest\n",
    "这些是在Jupyter单元格内运行pytest所需的步骤。您可以将此单元格的内容复制到包含测试的notebook顶部。"
   ]
  },
  {
   "cell_type": "code",
   "execution_count": null,
   "metadata": {},
   "outputs": [],
   "source": [
    "# 让我们确保安装了pytest和ipytest包\n",
    "# 在Jupyter notebooks中运行pytest需要ipytest\n",
    "import sys\n",
    "\n",
    "!{sys.executable} -m pip install pytest\n",
    "!{sys.executable} -m pip install ipytest\n",
    "\n",
    "# 在Jupyter notebooks中运行pytest需要这些\n",
    "import ipytest\n",
    "\n",
    "ipytest.autoconfig()"
   ]
  },
  {
   "cell_type": "markdown",
   "metadata": {},
   "source": [
    "## `pytest`测试用例\n",
    "让我们考虑一下，我们有一个名为`sum_of_three_numbers`的函数，我们想为它编写一个测试。"
   ]
  },
  {
   "cell_type": "code",
   "execution_count": null,
   "metadata": {},
   "outputs": [],
   "source": [
    "def sum_of_three_numbers(num1, num2, num3):\n",
    "    return num1 + num2 + num3"
   ]
  },
  {
   "cell_type": "markdown",
   "metadata": {},
   "source": [
    "Pytest测试用例实际上与您在练习中看到的非常相似。大多数练习的结构类似于pytest测试用例，将每个练习分为三个单元：\n",
    "1. 设置测试中使用的变量\n",
    "2. 你的执行\n",
    "3. 通过使用断言来验证您的实现是否符合要求\n",
    "\n",
    "请参阅下面的示例测试用例，了解练习和测试用例常见结构之间的相似之处。"
   ]
  },
  {
   "cell_type": "code",
   "execution_count": null,
   "metadata": {},
   "outputs": [],
   "source": [
    "%%ipytest\n",
    "\n",
    "def test_sum_of_three_numbers():\n",
    "    # 1. 设置测试中使用的变量\n",
    "    num1 = 2\n",
    "    num2 = 3\n",
    "    num3 = 5\n",
    "    \n",
    "    # 2. 调用要测试的功能\n",
    "    result = sum_of_three_numbers(num1, num2, num3)\n",
    "    \n",
    "    # 3. 验证结果是否符合预期\n",
    "    assert result == 10"
   ]
  },
  {
   "cell_type": "markdown",
   "metadata": {},
   "source": [
    "现在继续更改`assert result == 10`这一行，使断言无法看到失败测试的输出。"
   ]
  }
 ],
 "metadata": {
  "kernelspec": {
   "display_name": "Python 3 (ipykernel)",
   "language": "python",
   "name": "python3"
  },
  "language_info": {
   "codemirror_mode": {
    "name": "ipython",
    "version": 3
   },
   "file_extension": ".py",
   "mimetype": "text/x-python",
   "name": "python",
   "nbconvert_exporter": "python",
   "pygments_lexer": "ipython3",
   "version": "3.12.4"
  }
 },
 "nbformat": 4,
 "nbformat_minor": 4
}
