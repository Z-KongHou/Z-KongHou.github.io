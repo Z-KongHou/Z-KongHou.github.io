{
 "cells": [
  {
   "cell_type": "markdown",
   "metadata": {},
   "source": [
    "# 使用[pytest](https://docs.pytest.org/en/latest/)进行测试 - part 2"
   ]
  },
  {
   "cell_type": "code",
   "execution_count": null,
   "metadata": {},
   "outputs": [],
   "source": [
    "# 确保安装 pytest 和 ipytest 包\n",
    "# ipytest 是在 Jupyter Notebook 中运行 pytest 所必需的包。\n",
    "import sys\n",
    "\n",
    "!{sys.executable} -m pip install pytest\n",
    "!{sys.executable} -m pip install ipytest\n",
    "\n",
    "# 要在 Jupyter Notebook 中进行测试，您需要确保这两个包都已安装。\n",
    "import ipytest\n",
    "\n",
    "ipytest.autoconfig()"
   ]
  },
  {
   "cell_type": "markdown",
   "metadata": {},
   "source": [
    "## [`@pytest.fixture`](https://docs.pytest.org/en/latest/fixture.html#pytest-fixtures-explicit-modular-scalable)\n",
    "让我们考虑我们有一个要测试的 Person 类的实现。"
   ]
  },
  {
   "cell_type": "code",
   "execution_count": null,
   "metadata": {},
   "outputs": [],
   "source": [
    "class Person:\n",
    "    def __init__(self, first_name, last_name, age):\n",
    "        self.first_name = first_name\n",
    "        self.last_name = last_name\n",
    "        self.age = age\n",
    "\n",
    "    @property\n",
    "    def full_name(self):\n",
    "        return f\"{self.first_name} {self.last_name}\"\n",
    "\n",
    "    @property\n",
    "    def as_dict(self):\n",
    "        return {\"name\": self.full_name, \"age\": self.age}\n",
    "\n",
    "    def increase_age(self, years):\n",
    "        if years < 0:\n",
    "            raise ValueError(\"Can not make people younger :(\")\n",
    "        self.age += years"
   ]
  },
  {
   "cell_type": "markdown",
   "metadata": {},
   "source": [
    "您可以通过使用 `pytest fixture`轻松创建可重用的测试代码。如果您在 [_conftest.py_](https://docs.pytest.org/en/latest/fixture.html#conftest-py-sharing-fixture-functions)中引入`fixture`, 该`fixtures`对您所有的测试用例都是可用的。通常，`conftest.py` 的位置在您的测试目录的根部。"
   ]
  },
  {
   "cell_type": "code",
   "execution_count": null,
   "metadata": {},
   "outputs": [],
   "source": [
    "import pytest\n",
    "\n",
    "\n",
    "@pytest.fixture()\n",
    "def default_person():\n",
    "    person = Person(first_name=\"John\", last_name=\"Doe\", age=82)\n",
    "    return person"
   ]
  },
  {
   "cell_type": "markdown",
   "metadata": {},
   "source": [
    "然后您可以在实际测试用例中利用 `default_person` 装饰器。"
   ]
  },
  {
   "cell_type": "code",
   "execution_count": null,
   "metadata": {},
   "outputs": [],
   "source": [
    "%%ipytest\n",
    "\n",
    "\n",
    "def test_full_name(default_person): # Note: 我们将fixture作为测试用例的参数。\n",
    "    result = default_person.full_name\n",
    "    assert result == 'John Doe'\n",
    "    \n",
    "    \n",
    "def test_as_dict(default_person):\n",
    "    expected = {'name': 'John Doe', 'age': 82}\n",
    "    result = default_person.as_dict\n",
    "    assert result == expected\n",
    "    \n",
    "    \n",
    "def test_increase_age(default_person):\n",
    "    default_person.increase_age(1)\n",
    "    assert default_person.age == 83\n",
    "    \n",
    "    default_person.increase_age(10)\n",
    "    assert default_person.age == 93\n",
    "    \n",
    "    \n",
    "def test_increase_age_with_negative_number(default_person):\n",
    "    with pytest.raises(ValueError):\n",
    "        default_person.increase_age(-1)"
   ]
  },
  {
   "cell_type": "markdown",
   "metadata": {},
   "source": [
    "通过使用fixture，我们可以在所有四个测试用例中使用相同的 default_person！\n",
    "\n",
    "在 `test_increase_age_with_negative_number` 测试中，我们使用  [`pytest.raises`](https://docs.pytest.org/en/latest/assert.html#assertions-about-expected-exceptions) 来验证是否引发了异常。"
   ]
  },
  {
   "cell_type": "markdown",
   "metadata": {},
   "source": [
    "## [`@pytest.mark.parametrize`](https://docs.pytest.org/en/latest/parametrize.html#pytest-mark-parametrize-parametrizing-test-functions)\n",
    "有时您想用多个不同的输入测试相同的功能。`pytest.mark.parametrize` 是您定义多个不同输入及其预期输出的解决方案。让我们考虑以下 `replace_names` 函数的实现。 "
   ]
  },
  {
   "cell_type": "code",
   "execution_count": null,
   "metadata": {},
   "outputs": [],
   "source": [
    "def replace_names(original_str, new_name):\n",
    "    \"\"\"用 new_name 替换 original_str 中的名字（大写单词）。\"\"\"\n",
    "    words = original_str.split()\n",
    "    manipulated_words = [new_name if w.istitle() else w for w in words]\n",
    "    return \" \".join(manipulated_words)"
   ]
  },
  {
   "cell_type": "markdown",
   "metadata": {},
   "source": [
    "我们可以通过使用 `pytest.mark.parametrize` 用多个输入测试 `replace_names` 函数。"
   ]
  },
  {
   "cell_type": "code",
   "execution_count": null,
   "metadata": {},
   "outputs": [],
   "source": [
    "%%ipytest\n",
    "\n",
    "\n",
    "@pytest.mark.parametrize(\"original,new_name,expected\", [\n",
    "        ('this is Lisa', 'John Doe', 'this is John Doe'),\n",
    "        ('how about Frank and Amy', 'John', 'how about John and John'),\n",
    "        ('no names here', 'John Doe', 'no names here'),\n",
    "    ])\n",
    "def test_replace_names(original, new_name, expected):\n",
    "    result = replace_names(original, new_name)\n",
    "    assert result == expected"
   ]
  }
 ],
 "metadata": {
  "kernelspec": {
   "display_name": "Python 3 (ipykernel)",
   "language": "python",
   "name": "python3"
  },
  "language_info": {
   "codemirror_mode": {
    "name": "ipython",
    "version": 3
   },
   "file_extension": ".py",
   "mimetype": "text/x-python",
   "name": "python",
   "nbconvert_exporter": "python",
   "pygments_lexer": "ipython3",
   "version": "3.8.12"
  }
 },
 "nbformat": 4,
 "nbformat_minor": 4
}
