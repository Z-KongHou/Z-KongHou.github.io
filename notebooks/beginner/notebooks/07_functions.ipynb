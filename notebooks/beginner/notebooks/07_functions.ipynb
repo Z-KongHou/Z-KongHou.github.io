{
 "cells": [
  {
   "cell_type": "markdown",
   "metadata": {},
   "source": [
    "# 函数"
   ]
  },
  {
   "cell_type": "code",
   "execution_count": null,
   "metadata": {},
   "outputs": [],
   "source": [
    "def my_first_function():\n",
    "    print(\"Hello world!\")\n",
    "\n",
    "\n",
    "print(f\"type: {type(my_first_function)}\")\n",
    "\n",
    "my_first_function()  # 调用函数"
   ]
  },
  {
   "cell_type": "markdown",
   "metadata": {},
   "source": [
    "### 参数"
   ]
  },
  {
   "cell_type": "code",
   "execution_count": null,
   "metadata": {},
   "outputs": [],
   "source": [
    "def greet_us(name1, name2):\n",
    "    print(f\"Hello {name1} and {name2}!\")\n",
    "\n",
    "\n",
    "greet_us(\"John Doe\", \"Superman\")"
   ]
  },
  {
   "cell_type": "code",
   "execution_count": null,
   "metadata": {},
   "outputs": [],
   "source": [
    "# 具有返回值的函数\n",
    "def strip_and_lowercase(original):\n",
    "    modified = original.strip().lower()\n",
    "    return modified\n",
    "\n",
    "\n",
    "uggly_string = \"  MixED CaSe \"\n",
    "pretty = strip_and_lowercase(uggly_string)\n",
    "print(f\"pretty: {pretty}\")"
   ]
  },
  {
   "cell_type": "markdown",
   "metadata": {},
   "source": [
    "### 关键字参数"
   ]
  },
  {
   "cell_type": "code",
   "execution_count": null,
   "metadata": {},
   "outputs": [],
   "source": [
    "def my_fancy_calculation(first, second, third):\n",
    "    return first + second - third\n",
    "\n",
    "\n",
    "print(my_fancy_calculation(3, 2, 1))\n",
    "\n",
    "print(my_fancy_calculation(first=3, second=2, third=1))\n",
    "\n",
    "# 使用关键字参数，你可以打乱顺序\n",
    "print(my_fancy_calculation(third=1, first=3, second=2))\n",
    "\n",
    "# 你可以混合使用参数和关键字参数，但必须从参数开始\n",
    "print(my_fancy_calculation(3, third=1, second=2))"
   ]
  },
  {
   "cell_type": "markdown",
   "metadata": {},
   "source": [
    "### 默认参数"
   ]
  },
  {
   "cell_type": "code",
   "execution_count": null,
   "metadata": {},
   "outputs": [],
   "source": [
    "def create_person_info(name, age, job=None, salary=300):\n",
    "    info = {\"name\": name, \"age\": age, \"salary\": salary}\n",
    "\n",
    "    # 仅当“job”键作为参数提供时，才添加它\n",
    "    if job:\n",
    "        info.update(dict(job=job))\n",
    "\n",
    "    return info\n",
    "\n",
    "\n",
    "person1 = create_person_info(\"John Doe\", 82)  # 对job和salary使用默认参数\n",
    "person2 = create_person_info(\"Lisa Doe\", 22, \"hacker\", 10000)\n",
    "print(person1)\n",
    "print(person2)"
   ]
  },
  {
   "cell_type": "markdown",
   "metadata": {},
   "source": [
    "**不要使用可变对象作为默认参数！**"
   ]
  },
  {
   "cell_type": "code",
   "execution_count": null,
   "metadata": {},
   "outputs": [],
   "source": [
    "def append_if_multiple_of_five(number, magical_list=[]):\n",
    "    if number % 5 == 0:\n",
    "        magical_list.append(number)\n",
    "    return magical_list\n",
    "\n",
    "\n",
    "print(append_if_multiple_of_five(100))\n",
    "print(append_if_multiple_of_five(105))\n",
    "print(append_if_multiple_of_five(123))\n",
    "print(append_if_multiple_of_five(123, []))\n",
    "print(append_if_multiple_of_five(123))"
   ]
  },
  {
   "cell_type": "markdown",
   "metadata": {},
   "source": [
    "以下是如何实现所需行为的方法："
   ]
  },
  {
   "cell_type": "code",
   "execution_count": null,
   "metadata": {},
   "outputs": [],
   "source": [
    "def append_if_multiple_of_five(number, magical_list=None):\n",
    "    if not magical_list:\n",
    "        magical_list = []\n",
    "    if number % 5 == 0:\n",
    "        magical_list.append(number)\n",
    "    return magical_list\n",
    "\n",
    "\n",
    "print(append_if_multiple_of_five(100))\n",
    "print(append_if_multiple_of_five(105))\n",
    "print(append_if_multiple_of_five(123))\n",
    "print(append_if_multiple_of_five(123, []))\n",
    "print(append_if_multiple_of_five(123))"
   ]
  },
  {
   "cell_type": "markdown",
   "metadata": {},
   "source": [
    "### 文档字符串\n",
    "用于记录函数、方法、模块和变量的字符串。"
   ]
  },
  {
   "cell_type": "code",
   "execution_count": null,
   "metadata": {},
   "outputs": [],
   "source": [
    "def print_sum(val1, val2):\n",
    "    \"\"\"打印给定参数总和的函数。\"\"\"\n",
    "    print(f\"sum: {val1 + val2}\")\n",
    "\n",
    "\n",
    "print(help(print_sum))"
   ]
  },
  {
   "cell_type": "code",
   "execution_count": null,
   "metadata": {},
   "outputs": [],
   "source": [
    "def calculate_sum(val1, val2):\n",
    "    \"\"\"这是一个较长的文档字符串，也定义了参数和返回值。\n",
    "\n",
    "    参数:\n",
    "        val1: 第一个参数。\n",
    "        val2: 第二个参数。\n",
    "\n",
    "    返回值:\n",
    "        val1和val2的总和。\n",
    "\n",
    "    \"\"\"\n",
    "    return val1 + val2\n",
    "\n",
    "\n",
    "print(help(calculate_sum))"
   ]
  },
  {
   "cell_type": "markdown",
   "metadata": {},
   "source": [
    "### [`pass`](https://docs.python.org/3/reference/simple_stmts.html#the-pass-statement) 语句\n",
    "`pass` 是一个在执行时什么也不做的语句。它可以用作占位符，使代码在绘制应用程序的函数和/或类时语法正确。例如，以下是有效的Python代码。"
   ]
  },
  {
   "cell_type": "code",
   "execution_count": null,
   "metadata": {},
   "outputs": [],
   "source": [
    "def my_function(some_argument):\n",
    "    pass\n",
    "\n",
    "\n",
    "def my_other_function():\n",
    "    pass"
   ]
  }
 ],
 "metadata": {
  "kernelspec": {
   "display_name": "Python 3 (ipykernel)",
   "language": "python",
   "name": "python3"
  },
  "language_info": {
   "codemirror_mode": {
    "name": "ipython",
    "version": 3
   },
   "file_extension": ".py",
   "mimetype": "text/x-python",
   "name": "python",
   "nbconvert_exporter": "python",
   "pygments_lexer": "ipython3",
   "version": "3.12.4"
  }
 },
 "nbformat": 4,
 "nbformat_minor": 4
}
