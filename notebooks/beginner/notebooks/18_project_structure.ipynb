{
 "cells": [
  {
   "cell_type": "markdown",
   "metadata": {},
   "source": [
    "# 项目结构"
   ]
  },
  {
   "cell_type": "markdown",
   "metadata": {},
   "source": [
    "## Python 脚本\n",
    "Python 是一种非常适合构建各种任务的小型辅助工具的语言。这类小工具通常可以用一个单独的 Python 脚本来表达。\n",
    "\n",
    "以下是 Python 脚本（即可执行的 Python 模块）的示例结构。"
   ]
  },
  {
   "cell_type": "code",
   "execution_count": null,
   "metadata": {},
   "outputs": [],
   "source": [
    "# the content of my_script.py\n",
    "\n",
    "# imports\n",
    "import logging\n",
    "\n",
    "# constants\n",
    "LOGGER = logging.getLogger()\n",
    "\n",
    "\n",
    "def magical_function():\n",
    "    LOGGER.warning(\"We are about to do some magical stuff\")\n",
    "\n",
    "\n",
    "def main():\n",
    "    # The actual logic of the script\n",
    "    magical_function()\n",
    "\n",
    "\n",
    "if __name__ == \"__main__\":\n",
    "    main()"
   ]
  },
  {
   "cell_type": "markdown",
   "metadata": {},
   "source": [
    "## Python 包\n",
    "一个 Python 项目的示例结构：\n",
    "\n"
   ]
  },
  {
   "cell_type": "code",
   "execution_count": null,
   "metadata": {},
   "outputs": [],
   "source": [
    "my_project/\n",
    "    README.md\n",
    "    requirements.txt\n",
    "    setup.py\n",
    "    \n",
    "    src/\n",
    "        my_project/\n",
    "            __init__.py\n",
    "            my_module.py\n",
    "            other_module.py\n",
    "            \n",
    "            my_pkg1/\n",
    "                __init__.py\n",
    "                my_third_module.py\n",
    "                \n",
    "    tests/\n",
    "        conftest.py\n",
    "        test_module.py\n",
    "        test_other_module.py\n",
    "        \n",
    "        my_pkg1/\n",
    "            test_my_third_module.py"
   ]
  },
  {
   "cell_type": "markdown",
   "metadata": {},
   "source": [
    "* [requirements.txt](https://pip.pypa.io/en/latest/user_guide/#requirements-files) 列出了 `my_project` 所依赖的 Python 包。\n",
    "    * 这些包可以通过运行 `pip install -r requirements.txt` 来安装。\n",
    "* [setup.py](https://packaging.python.org/tutorials/distributing-packages/#setup-py) 这是一个用于包含有关项目的相关信息的文件，同时该文件也用于打包你的项目。以下是一个最小的 `setup.py` 示例："
   ]
  },
  {
   "cell_type": "code",
   "execution_count": null,
   "metadata": {},
   "outputs": [],
   "source": [
    "```python\n",
    "'''Minimal setup.py file'''\n",
    "\n",
    "from setuptools import setup, find_packages\n",
    "\n",
    "setup(\n",
    "    name='my_project',\n",
    "    version='0.1',\n",
    "    packages=find_packages(where=\"src\"),\n",
    "    package_dir={\"\": \"src\"})\n",
    "```"
   ]
  },
  {
   "cell_type": "markdown",
   "metadata": {},
   "source": [
    "* 一旦你在项目中准备好 `setup.py` 文件，就可以通过在项目根目录中运行 `pip install -e` . 以可编辑模式安装你的项目。在可编辑模式下，当你对源代码文件进行更改时，安装的版本会自动更新。"
   ]
  }
 ],
 "metadata": {
  "kernelspec": {
   "display_name": "Python 3 (ipykernel)",
   "language": "python",
   "name": "python3"
  },
  "language_info": {
   "codemirror_mode": {
    "name": "ipython",
    "version": 3
   },
   "file_extension": ".py",
   "mimetype": "text/x-python",
   "name": "python",
   "nbconvert_exporter": "python",
   "pygments_lexer": "ipython3",
   "version": "3.8.12"
  }
 },
 "nbformat": 4,
 "nbformat_minor": 4
}
